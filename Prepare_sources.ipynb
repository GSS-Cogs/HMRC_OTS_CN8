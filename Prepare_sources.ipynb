{
 "cells": [
  {
   "cell_type": "markdown",
   "metadata": {},
   "source": [
    "Fetch the source data, in this case from an open shared Google drive. We cache the source data in the `in` directory for further processing and to avoid re-fetching each time this notebook is run.\n",
    "\n",
    "Note that there appears to be a bug in rdf-tabular where the filenames of CSV files need to be in lower case."
   ]
  },
  {
   "cell_type": "code",
   "execution_count": null,
   "metadata": {},
   "outputs": [],
   "source": [
    "import requests\n",
    "from pathlib import Path\n",
    "\n",
    "sourceFolder = Path('in')\n",
    "sourceFolder.mkdir(exist_ok=True)\n",
    "\n",
    "sources = [\n",
    "    ('cn8_2012.csv', '1P7YyFF6qXKXWVtR0Vt3kkvFPOjThMQH8'),\n",
    "    ('cn8_2013.csv', '1de-Le9ungrbdoGyvWI_RwmEhNpTmR-70'),\n",
    "    ('cn8_2014.csv', '1oC3jlItfsUshd54KOR7yn9NxpR83iCbC'),\n",
    "    ('cn8_2015.csv', '1H54-FYrCFa1DylCBg38RAPAeCtkGq4la'),\n",
    "    ('cn8_2016.csv', '11fLsnoiWzTcA1d3nSDWvyrKQEHwIf6Hz')\n",
    "]\n",
    "\n",
    "for filename, google_id in sources:\n",
    "    sourceFile = sourceFolder / filename\n",
    "\n",
    "    if not (sourceFile.exists() and sourceFile.is_file()):\n",
    "        response = requests.get(f'https://drive.google.com/uc?export=download&id={google_id}')\n",
    "        with open(sourceFile, 'wb') as f:\n",
    "            f.write(response.content)"
   ]
  },
  {
   "cell_type": "markdown",
   "metadata": {},
   "source": [
    "This data is already in [Tidy Data format](http://vita.had.co.nz/papers/tidy-data.pdf) and so just needs a JSON metadata file for each CSV file.\n",
    "\n",
    "We copy across the CSV files and fill out a template JSON metadata file for each CSV file, putting the results in the `out` directory for further processing."
   ]
  },
  {
   "cell_type": "code",
   "execution_count": null,
   "metadata": {},
   "outputs": [],
   "source": [
    "import json\n",
    "from itertools import islice\n",
    "\n",
    "metadataTemplate = json.load(open('metadata/cn8_template.json'))\n",
    "\n",
    "destinationFolder = Path('out')\n",
    "destinationFolder.mkdir(exist_ok=True)\n",
    "\n",
    "for filename, google_id in sources:\n",
    "    sourceFile = sourceFolder / filename\n",
    "    with open(sourceFile) as src:\n",
    "        destFile = destinationFolder / filename\n",
    "        with open(destFile, 'w') as dst:\n",
    "            for line in islice(src, 1000):\n",
    "                dst.write(line)\n",
    "    metadataFile = destinationFolder / (filename + '-metadata.json')\n",
    "    metadataTemplate['url'] = filename\n",
    "    with open(metadataFile, 'w') as meta:\n",
    "        json.dump(metadataTemplate, meta, indent=2)\n"
   ]
  },
  {
   "cell_type": "code",
   "execution_count": null,
   "metadata": {},
   "outputs": [],
   "source": []
  }
 ],
 "metadata": {
  "kernelspec": {
   "display_name": "Python 3",
   "language": "python",
   "name": "python3"
  },
  "language_info": {
   "codemirror_mode": {
    "name": "ipython",
    "version": 3
   },
   "file_extension": ".py",
   "mimetype": "text/x-python",
   "name": "python",
   "nbconvert_exporter": "python",
   "pygments_lexer": "ipython3",
   "version": "3.6.4"
  }
 },
 "nbformat": 4,
 "nbformat_minor": 2
}
