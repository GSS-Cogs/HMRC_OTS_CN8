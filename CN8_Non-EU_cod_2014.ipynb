{
 "cells": [
  {
   "cell_type": "code",
   "execution_count": 1,
   "metadata": {},
   "outputs": [],
   "source": [
    "import pandas as pd"
   ]
  },
  {
   "cell_type": "code",
   "execution_count": 2,
   "metadata": {},
   "outputs": [],
   "source": [
    "CONST_HEADERS = [\n",
    "    'observation',\n",
    "    'data_marking',\n",
    "    'statistical_unit_eng',\n",
    "    'statistical_unit_cym',\n",
    "    'measure_type_eng',\n",
    "    'measure_type_cym',\n",
    "    'observation_type',\n",
    "    'empty',\n",
    "    'obs_type_value',\n",
    "    'unit_multiplier',\n",
    "    'unit_of_measure_eng',\n",
    "    'unit_of_measure_cym',\n",
    "    'confidentuality',\n",
    "    'empty1',\n",
    "    'geographic_area',\n",
    "    'empty2',\n",
    "    'empty3',\n",
    "    'time_dim_item_id',\n",
    "    'time_dim_item_label_eng',\n",
    "    'time_dim_item_label_cym',\n",
    "    'time_type',\n",
    "    'empty4',\n",
    "    'statistical_population_id',\n",
    "    'statistical_population_label_eng',\n",
    "    'statistical_population_label_cym',\n",
    "    'cdid',\n",
    "    'cdiddescrip',\n",
    "    'empty5',\n",
    "    'empty6',\n",
    "    'empty7',\n",
    "    'empty8',\n",
    "    'empty9',\n",
    "    'empty10',\n",
    "    'empty11',\n",
    "    'empty12'\n",
    "]"
   ]
  },
  {
   "cell_type": "code",
   "execution_count": 3,
   "metadata": {},
   "outputs": [],
   "source": [
    "CONST_TOPIC = [\n",
    "    'dim_id_',\n",
    "    'dimension_label_eng_',\n",
    "    'dimension_label_cym_',\n",
    "    'dim_item_id_',\n",
    "    'dimension_item_label_eng_',\n",
    "    'dimension_item_label_cym_',\n",
    "    'is_total_',\n",
    "    'is_sub_total_',\n",
    "]"
   ]
  },
  {
   "cell_type": "markdown",
   "metadata": {},
   "source": [
    "Download source CSV file if it's not already in the \"in\" directory, and parse the result as CSV."
   ]
  },
  {
   "cell_type": "code",
   "execution_count": 4,
   "metadata": {},
   "outputs": [],
   "source": [
    "import requests\n",
    "from pathlib import Path\n",
    "\n",
    "sourceFilename = 'CN8_Non-EU_cod_2014.csv'\n",
    "sourceFile = Path('in', sourceFilename)\n",
    "# (2012) sourceUrl = 'https://drive.google.com/uc?export=download&id=1P7YyFF6qXKXWVtR0Vt3kkvFPOjThMQH8'\n",
    "sourceUrl = 'https://drive.google.com/uc?export=download&id=1oC3jlItfsUshd54KOR7yn9NxpR83iCbC'\n",
    "\n",
    "if not (sourceFile.exists() and sourceFile.is_file()):\n",
    "    response = requests.get(sourceUrl)\n",
    "    with open(sourceFile, 'wb') as f:\n",
    "        f.write(response.content)\n",
    "\n",
    "oldFile = pd.read_csv(sourceFile)"
   ]
  },
  {
   "cell_type": "code",
   "execution_count": 5,
   "metadata": {},
   "outputs": [],
   "source": [
    "newFile = pd.DataFrame()\n"
   ]
  },
  {
   "cell_type": "code",
   "execution_count": 6,
   "metadata": {},
   "outputs": [],
   "source": [
    "newFile[\"observation\"] = oldFile[\"svalue\"]"
   ]
  },
  {
   "cell_type": "code",
   "execution_count": 7,
   "metadata": {},
   "outputs": [],
   "source": [
    "for col in CONST_HEADERS[1:]:\n",
    "    newFile[col] = \"\""
   ]
  },
  {
   "cell_type": "code",
   "execution_count": 8,
   "metadata": {},
   "outputs": [],
   "source": [
    "newFile['time_dim_item_id'] = oldFile[\"year\"]\n",
    "newFile['time_dim_item_label_eng'] = oldFile[\"year\"]\n",
    "newFile['time_type'] = \"year\""
   ]
  },
  {
   "cell_type": "code",
   "execution_count": 9,
   "metadata": {},
   "outputs": [],
   "source": [
    "counter =  1\n",
    "for dimension in [\"flow\", \"comcode\", \"country\"]:\n",
    "\n",
    "        \n",
    "        for col in CONST_TOPIC:\n",
    "            newFile[col + str(counter)] = \"\"\n",
    "\n",
    "        \n",
    "        newFile['dim_id_' + str(counter)] = dimension\n",
    "        newFile['dimension_label_eng_' + str(counter)] = dimension\n",
    "\n",
    "        newFile['dim_item_id_' + str(counter)] = oldFile[dimension]\n",
    "        newFile['dimension_item_label_eng_' + str(counter)] = oldFile[dimension]\n",
    "\n",
    "        counter += 1"
   ]
  },
  {
   "cell_type": "code",
   "execution_count": 10,
   "metadata": {},
   "outputs": [],
   "source": [
    "newFile.to_csv(Path(\"out\", sourceFilename), index=False)"
   ]
  }
 ],
 "metadata": {
  "kernelspec": {
   "display_name": "Python 3",
   "language": "python",
   "name": "python3"
  },
  "language_info": {
   "codemirror_mode": {
    "name": "ipython",
    "version": 3
   },
   "file_extension": ".py",
   "mimetype": "text/x-python",
   "name": "python",
   "nbconvert_exporter": "python",
   "pygments_lexer": "ipython3",
   "version": "3.6.4"
  }
 },
 "nbformat": 4,
 "nbformat_minor": 2
}
